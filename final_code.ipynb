{
  "nbformat": 4,
  "nbformat_minor": 0,
  "metadata": {
    "colab": {
      "name": "final_code.ipynb",
      "provenance": [],
      "collapsed_sections": []
    },
    "kernelspec": {
      "name": "python3",
      "display_name": "Python 3"
    }
  },
  "cells": [
    {
      "cell_type": "code",
      "metadata": {
        "id": "wUOv0GlfwjOS",
        "outputId": "c96f9cec-9323-4c25-f112-9f52a4d669f0",
        "colab": {
          "base_uri": "https://localhost:8080/",
          "height": 33
        }
      },
      "source": [
        "%%writefile requirements.txt\n",
        "Flask==0.12.2\n",
        "flask-socketio\n",
        "eventlet==0.17.4\n",
        "gunicorn==18.0.0"
      ],
      "execution_count": 1,
      "outputs": [
        {
          "output_type": "stream",
          "text": [
            "Overwriting requirements.txt\n"
          ],
          "name": "stdout"
        }
      ]
    },
    {
      "cell_type": "code",
      "metadata": {
        "id": "zXpLxq8XLzNg",
        "outputId": "4aafafd0-1b03-4738-c9b4-d7d28d8c3ef5",
        "colab": {
          "base_uri": "https://localhost:8080/",
          "height": 33
        }
      },
      "source": [
        "\n",
        "from google.colab import drive\n",
        "drive.mount('/content/gdrive/')"
      ],
      "execution_count": 2,
      "outputs": [
        {
          "output_type": "stream",
          "text": [
            "Drive already mounted at /content/gdrive/; to attempt to forcibly remount, call drive.mount(\"/content/gdrive/\", force_remount=True).\n"
          ],
          "name": "stdout"
        }
      ]
    },
    {
      "cell_type": "code",
      "metadata": {
        "id": "lHOVxKXBwrav",
        "outputId": "0f0f95b4-a382-4eed-fe9b-a3ce5c509140",
        "colab": {
          "base_uri": "https://localhost:8080/",
          "height": 33
        }
      },
      "source": [
        "\n",
        "%%writefile main.py\n",
        "import os\n",
        "from flask import Flask, render_template, request, send_from_directory\n",
        "from fastai.vision import *\n",
        "from fastai import *\n",
        "import matplotlib.pyplot as plt\n",
        "#import torch\n",
        "from flask_socketio import SocketIO\n",
        "\n",
        "secret = os.urandom(24).hex()\n",
        "app = Flask(__name__)\n",
        "app.logger.info(\"Starting...\")\n",
        "app.config['SECRET_KEY'] = secret\n",
        "app.logger.critical(\"secret: %s\" % secret)\n",
        "socketio = SocketIO(app)\n",
        "\n",
        "\n",
        "# path to the pre-trained model\n",
        "STATIC_FOLDER = '/content/gdrive/My Drive/Model/'\n",
        "\n",
        "\n",
        "def load__model():\n",
        "    global model\n",
        "    model = load_learner(STATIC_FOLDER)\n",
        "\n",
        "\n",
        "def predict(fullpath):\n",
        "    data = open_image(fullpath)\n",
        "    pred_class,pred_idx,outputs = model.predict(data)\n",
        "    return pred_class\n",
        "\n",
        "\n",
        "# Home Page\n",
        "@app.route('/')\n",
        "def index():\n",
        "    return render_template('index.html')\n",
        "\n",
        "\n",
        "# Process file and predict his label\n",
        "@app.route('/upload', methods=['GET', 'POST'])\n",
        "def upload_file():\n",
        "    if request.method == 'GET':\n",
        "        return render_template('index.html')\n",
        "    else:\n",
        "        file = request.files['image']\n",
        "        fullname = os.path.join(STATIC_FOLDER, file.filename)\n",
        "        file.save(fullname)\n",
        "        label = predict(fullname)\n",
        "        return render_template('predict.html', image_file_name=file.filename, label=label)\n",
        "\n",
        "@app.route('/about')\n",
        "def about():\n",
        "    return render_template('about.html')\n",
        "@app.route('/upload/<filename>')\n",
        "def send_file(filename):\n",
        "    return send_from_directory(STATIC_FOLDER, filename)\n",
        "\n",
        "\n",
        "def create_app():\n",
        "    load__model()\n",
        "    return app\n",
        "\n",
        "\n",
        "if __name__ == '__main__':\n",
        "    app = create_app()\n",
        "    socketio.run(app, debug=True)"
      ],
      "execution_count": 3,
      "outputs": [
        {
          "output_type": "stream",
          "text": [
            "Overwriting main.py\n"
          ],
          "name": "stdout"
        }
      ]
    },
    {
      "cell_type": "code",
      "metadata": {
        "id": "CHBkkoTOWLR5",
        "outputId": "a3ade6de-ebec-43a1-cf07-5dfc52fcff02",
        "colab": {
          "base_uri": "https://localhost:8080/",
          "height": 33
        }
      },
      "source": [
        "!mkdir static"
      ],
      "execution_count": 4,
      "outputs": [
        {
          "output_type": "stream",
          "text": [
            "mkdir: cannot create directory ‘static’: File exists\n"
          ],
          "name": "stdout"
        }
      ]
    },
    {
      "cell_type": "code",
      "metadata": {
        "id": "C5Re11dq9tNh",
        "outputId": "b1a6b7b7-d59a-4b77-97e6-47a6b84e0494",
        "colab": {
          "base_uri": "https://localhost:8080/",
          "height": 35
        }
      },
      "source": [
        "from shutil import copyfile\n",
        "src = \"/content/gdrive/My Drive/Model/img.svg\"\n",
        "dst = \"static/img.svg\"\n",
        "copyfile(src, dst)"
      ],
      "execution_count": 5,
      "outputs": [
        {
          "output_type": "execute_result",
          "data": {
            "application/vnd.google.colaboratory.intrinsic+json": {
              "type": "string"
            },
            "text/plain": [
              "'static/img.svg'"
            ]
          },
          "metadata": {
            "tags": []
          },
          "execution_count": 5
        }
      ]
    },
    {
      "cell_type": "code",
      "metadata": {
        "id": "Zw7crhZUUBn1",
        "outputId": "f95cf1a2-df77-42e6-f91a-e90c5b82c5d7",
        "colab": {
          "base_uri": "https://localhost:8080/",
          "height": 33
        }
      },
      "source": [
        "%%writefile static/style.css\n",
        "@import url(\"https://fonts.googleapis.com/css2?family=Poppins:wght@400;600;700&display=swap\");\n",
        "\n",
        ":root{\n",
        "  --header-height: 3rem;\n",
        "  --font-semi: 600;\n",
        "}\n",
        "\n",
        ":root{\n",
        "  --first-color: #f27d0c;\n",
        "  --second-color: #0E2431;\n",
        "}\n",
        "\n",
        "\n",
        ":root{\n",
        "  --body-font: 'Poppins', sans-serif;\n",
        "  --big-font-size: 1.7rem;\n",
        "  --h2-font-size: 1.25rem;\n",
        "  --normal-font-size: 0.938rem;\n",
        "}\n",
        "@media screen and (min-width: 768px){\n",
        "  :root{\n",
        "    --big-font-size: 2.5rem;\n",
        "    --h2-font-size: 2rem;\n",
        "    --normal-font-size: 1rem;\n",
        "  }\n",
        "}\n",
        "\n",
        "/* Margenes */\n",
        ":root{\n",
        "  --mb-1: 0.5rem;\n",
        "  --mb-2: 1rem;\n",
        "  --mb-3: 1.5rem;\n",
        "  --mb-4: 2rem;\n",
        "  --mb-5: 2.5rem;\n",
        "  --mb-6: 3rem;\n",
        "}\n",
        "\n",
        "/* z index */\n",
        ":root{\n",
        "  --z-back: -10;\n",
        "  --z-normal: 1;\n",
        "  --z-tooltip: 10;\n",
        "  --z-fixed: 100;\n",
        "}\n",
        "\n",
        "*,::before,::after{\n",
        "  box-sizing: border-box;\n",
        "}\n",
        "html{\n",
        "  scroll-behavior: smooth;\n",
        "}\n",
        "body{\n",
        "  margin: var(--header-height) 0 0 0;\n",
        "  font-family: var(--body-font);\n",
        "  font-size: var(--normal-font-size);\n",
        "  color: var(--second-color);\n",
        "}\n",
        "h1,h2,p{\n",
        "  margin: 0;\n",
        "}\n",
        "ul{\n",
        "  margin: 0;\n",
        "  padding: 0;\n",
        "  list-style: none;\n",
        "}\n",
        "a{\n",
        "  text-decoration: none;\n",
        "}\n",
        "img{\n",
        "  max-width: 100%;\n",
        "  height: auto;\n",
        "  display: block;\n",
        "}\n",
        "\n",
        "/*===== CLASS CSS ===== */\n",
        ".section-title{\n",
        "  position: relative;\n",
        "  font-size: var(--h2-font-size);\n",
        "  color: var(--first-color);\n",
        "  margin-top: var(--mb-2);\n",
        "  margin-bottom: var(--mb-4);\n",
        "  text-align: center;\n",
        "}\n",
        ".section-title::after{\n",
        "  position: absolute;\n",
        "  content: \"\";\n",
        "  width: 64px;\n",
        "  height: 0.18rem;\n",
        "  left: 0;\n",
        "  right: 0;\n",
        "  margin: auto;\n",
        "  top: 2rem;\n",
        "  background-color: var(--first-color);\n",
        "}\n",
        ".section{\n",
        "  padding-top: 3rem;\n",
        "  padding-bottom: 2rem;\n",
        "}\n",
        "\n",
        ".bd-grid{\n",
        "  max-width: 1024px;\n",
        "  display: grid;\n",
        "  grid-template-columns: 100%;\n",
        "  grid-column-gap: 2rem;\n",
        "  width: calc(100% - 2rem);\n",
        "  margin-left: var(--mb-2);\n",
        "  margin-right: var(--mb-2);\n",
        "}\n",
        ".l-header{\n",
        "  width: 100%;\n",
        "  position: fixed;\n",
        "  top: 0;\n",
        "  left: 0;\n",
        "  z-index: var(--z-fixed);\n",
        "  background-color: #fff;\n",
        "  box-shadow: 0 1px 4px rgba(146,161,176,.15);\n",
        "}\n",
        "\n",
        "\n",
        ".nav{\n",
        "  height: var(--header-height);\n",
        "  display: flex;\n",
        "  justify-content: space-between;\n",
        "  align-items: center;\n",
        "  font-weight: var(--font-semi);\n",
        "}\n",
        "@media screen and (max-width: 768px){\n",
        "  .nav__menu{\n",
        "    position: fixed;\n",
        "    top: var(--header-height);\n",
        "    right: -100%;\n",
        "    width: 80%;\n",
        "    height: 100%;\n",
        "    padding: 2rem;\n",
        "    background-color: var(--second-color);\n",
        "    transition: .5s;\n",
        "  }\n",
        "}\n",
        ".nav__item{\n",
        "  margin-bottom: var(--mb-4);\n",
        "}\n",
        ".nav__link{\n",
        "  position: relative;\n",
        "  color: #fff;\n",
        "}\n",
        ".nav__link:hover{\n",
        "  position: relative;\n",
        "}\n",
        ".nav__link:hover::after{\n",
        "  position: absolute;\n",
        "  content: \"\";\n",
        "  width: 100%;\n",
        "  height: 0.18rem;\n",
        "  left: 0;\n",
        "  top: 2rem;\n",
        "  background-color: var(--first-color);\n",
        "}\n",
        ".nav__logo{\n",
        "  color: var(--second-color);\n",
        "}\n",
        ".nav__toggle{\n",
        "  color: var(--second-color);\n",
        "  font-size: 1.5rem;\n",
        "  cursor: pointer;\n",
        "}\n",
        "\n",
        ".active::after{\n",
        "  position: absolute;\n",
        "  content: \"\";\n",
        "  width: 100%;\n",
        "  height: 0.18rem;\n",
        "  left: 0;\n",
        "  top: 2rem;\n",
        "  background-color: var(--first-color);\n",
        "}\n",
        "\n",
        ".show{\n",
        "  right: 0;\n",
        "}\n",
        "\n",
        ".home{\n",
        "  height: calc(100vh - 3rem);\n",
        "  row-gap: 1rem;\n",
        "}\n",
        ".home__data{\n",
        "  align-self: center;\n",
        "}\n",
        ".home__title{\n",
        "  font-size: var(--big-font-size);\n",
        "  margin-bottom: var(--mb-5);\n",
        "}\n",
        ".c__title{\n",
        "\tfont-size: 1.2 rem;\n",
        "\tmargin-bottom: var(--mb-5);\n",
        "}\n",
        ".home__title-color{\n",
        "  color: var(--first-color);\n",
        "}\n",
        "\n",
        ".home__social-icon{\n",
        "  width: max-content;\n",
        "  margin-bottom: var(--mb-2);\n",
        "  font-size: 1.5rem;\n",
        "  color: var(--second-color);\n",
        "}\n",
        ".home__social-icon:hover{\n",
        "  color: var(--first-color);\n",
        "}\n",
        ".home__img{\n",
        "\t\n",
        "  position: absolute;\n",
        "  right: 0;\n",
        "  bottom: 0;\n",
        "  width: 250px;\n",
        "}\n",
        "\n",
        ".button{\n",
        "  display: inline-block;\n",
        "  background-color: var(--first-color);\n",
        "  color: #fff;\n",
        "  padding: .75rem 2.5rem;\n",
        "  font-weight: var(--font-semi);\n",
        "  border-radius: .5rem;\n",
        "  border: 1px solid #fff;\n",
        "}\n",
        ".button:hover{\n",
        "  box-shadow: 0 10px 36px rgba(0,0,0,.15);\n",
        "}\n",
        "\n",
        "input[type=\"file\"] {\n",
        "    display: none;\n",
        "}\n",
        "input[type=\"submit\"] {\n",
        "    display: none;\n",
        "}\n",
        ".custom-file-upload {\n",
        "    border: 1px solid var(--first-color);\n",
        "    display: inline-block;\n",
        "    padding: 6px 12px;\n",
        "    cursor: pointer;\n",
        "}\n",
        ".custom-file-upload:hover{ \n",
        "\tbox-shadow: 0 10px 36px rgba(0,0,0,.15);\n",
        "\tbackground-color: var(--first-color);\n",
        "\tcolor: #fff;\n",
        "\tfont-weight: var(--font-semi);\n",
        "}\n",
        "\n",
        "\n",
        ".footer{\n",
        "  background-color: #f5a454;\n",
        "  color: #fff;\n",
        "  text-align: center;\n",
        "  font-weight: var(--font-semi);\n",
        "  padding: 2rem 0;\n",
        "}\n",
        ".footer__title{\n",
        "  font-size: 2rem;\n",
        "  margin-bottom: var(--mb-4);\n",
        "}\n",
        "\n",
        "@media screen and (min-width: 768px){\n",
        "  body{\n",
        "    margin: 0;\n",
        "  }\n",
        "  .section{\n",
        "    padding-top: 4rem;\n",
        "    padding-bottom: 3rem;\n",
        "  }\n",
        "  .section-title{\n",
        "    margin-bottom: var(--mb-6);\n",
        "  }\n",
        "  .section-title::after{\n",
        "    width: 80px;\n",
        "    top: 3rem;\n",
        "  }\n",
        "\n",
        "  .nav{\n",
        "    height: calc(var(--header-height) + 1rem);\n",
        "  }\n",
        "  .nav__list{\n",
        "    display: flex;\n",
        "    padding-top: 0;\n",
        "  }\n",
        "  .nav__item{\n",
        "    margin-left: var(--mb-6);\n",
        "    margin-bottom: 0;\n",
        "  }\n",
        "  .nav__toggle{\n",
        "    display: none;\n",
        "  }\n",
        "  .nav__link{\n",
        "    color: var(--second-color);\n",
        "  }\n",
        "\n",
        "  .home{\n",
        "    height: 100vh;\n",
        "  }\n",
        "  .home__data{\n",
        "    align-self: flex-end;\n",
        "  }\n",
        "  .home__social-icon{\n",
        "    margin-bottom: 0;\n",
        "    margin-right: var(--mb-4);\n",
        "  }\n",
        "  .home__img{\n",
        "    width: 400px;\n",
        "    bottom: 15%;\n",
        "  }\n",
        "\n",
        "  .about__container, .skills__container{\n",
        "    grid-template-columns: repeat(2,1fr);\n",
        "    align-items: center;\n",
        "    text-align: initial;\n",
        "  }\n",
        "  .about__img img{\n",
        "    width: 200px;\n",
        "  }\n",
        "}\n",
        "\n",
        "@media screen and (min-width: 1024px){\n",
        "  .bd-grid{\n",
        "    margin-left: auto;\n",
        "    margin-right: auto;\n",
        "  }\n",
        "  .home__img{\n",
        "    right: 10%;\n",
        "  }\n",
        "}\n",
        "\n",
        "\n",
        "\n"
      ],
      "execution_count": 6,
      "outputs": [
        {
          "output_type": "stream",
          "text": [
            "Overwriting static/style.css\n"
          ],
          "name": "stdout"
        }
      ]
    },
    {
      "cell_type": "code",
      "metadata": {
        "id": "zN0XWTdTUF-e",
        "outputId": "18c28c97-652d-453a-8c06-47e3e9b69f74",
        "colab": {
          "base_uri": "https://localhost:8080/",
          "height": 33
        }
      },
      "source": [
        "%%writefile static/main.js\n",
        "\n",
        "const showMenu = (toggleId, navId) =>{\n",
        "    const toggle = document.getElementById(toggleId),\n",
        "    nav = document.getElementById(navId)\n",
        "\n",
        "    if(toggle && nav){\n",
        "        toggle.addEventListener('click', ()=>{\n",
        "            nav.classList.toggle('show')\n",
        "        })\n",
        "    }\n",
        "}\n",
        "showMenu('nav-toggle','nav-menu')\n",
        "const navLink = document.querySelectorAll('.nav__link');   \n",
        "\n",
        "function linkAction(){\n",
        "\n",
        "  navLink.forEach(n => n.classList.remove('active'));\n",
        "  this.classList.add('active');\n",
        "  \n",
        "  const navMenu = document.getElementById('nav-menu')\n",
        "  navMenu.classList.remove('show')\n",
        "}\n",
        "navLink.forEach(n => n.addEventListener('click', linkAction));\n",
        "\n",
        "const sr = ScrollReveal({\n",
        "    origin: 'top',\n",
        "    distance: '80px',\n",
        "    duration: 1000,\n",
        "    reset: true\n",
        "});\n",
        "\n",
        "sr.reveal('.home__title',{}); \n",
        "sr.reveal('.button',{delay: 100}); \n",
        "sr.reveal('.home__img',{delay: 150}); \n",
        "sr.reveal('.c__title',{}); \n",
        "sr.reveal('.custom-file-upload',{delay: 100}); \n",
        "var loadFile = function(event) {\n",
        "\tvar image = document.getElementById('img_id');\n",
        "\timage.src = URL.createObjectURL(event.target.files[0]);\n",
        "\timage.style.height = \"400px\";\n",
        "};"
      ],
      "execution_count": 7,
      "outputs": [
        {
          "output_type": "stream",
          "text": [
            "Overwriting static/main.js\n"
          ],
          "name": "stdout"
        }
      ]
    },
    {
      "cell_type": "code",
      "metadata": {
        "id": "yGxe3-lH1FmA"
      },
      "source": [
        "%mkdir templates -p"
      ],
      "execution_count": 8,
      "outputs": []
    },
    {
      "cell_type": "code",
      "metadata": {
        "id": "fJ3rbtMQ1KpJ",
        "outputId": "7ca06b75-88fa-4d0a-de5b-6880382838b2",
        "colab": {
          "base_uri": "https://localhost:8080/",
          "height": 33
        }
      },
      "source": [
        "%%writefile templates/index.html\n",
        "<!DOCTYPE html>\n",
        "<html lang=\"en\">\n",
        "    <head>\n",
        "        <meta charset=\"UTF-8\">\n",
        "        <meta name=\"viewport\" content=\"width=device-width, initial-scale=1.0\">\n",
        "\n",
        "        <link rel=\"stylesheet\" href=\"{{ url_for('static',filename='style.css') }}\">\n",
        "\n",
        "        <!-- =====BOX ICONS===== -->\n",
        "        <link href='https://cdn.jsdelivr.net/npm/boxicons@2.0.5/css/boxicons.min.css' rel='stylesheet'>\n",
        "\t\t<script src=\"https://ajax.googleapis.com/ajax/libs/jquery/3.3.1/jquery.min.js\"></script>\n",
        "\t\t<script src=\"https://maxcdn.bootstrapcdn.com/bootstrap/3.3.7/js/bootstrap.min.js\"></script>\n",
        "        <title>Finder</title>\n",
        "    </head>\n",
        "    <body>\n",
        "        <!--===== HEADER =====-->\n",
        "        <header class=\"l-header\">\n",
        "            <nav class=\"nav bd-grid\">\n",
        "                <div>\n",
        "                    <a href=\"/\" class=\"nav__logo\">Finder</a>\n",
        "                </div>\n",
        "\n",
        "                <div class=\"nav__menu\" id=\"nav-menu\">\n",
        "                    <ul class=\"nav__list\">\n",
        "                        <li class=\"nav__item\"><a href=\"/\" class=\"nav__link active\">Home</a></li>\n",
        "                        <li class=\"nav__item\"><a href=\"/about\" class=\"nav__link\">About</a></li>\n",
        "                    </ul>\n",
        "                </div>\n",
        "\n",
        "                <div class=\"nav__toggle\" id=\"nav-toggle\">\n",
        "                    <i class='bx bx-menu'></i>\n",
        "                </div>\n",
        "            </nav>\n",
        "        </header>\n",
        "\n",
        "        <main class=\"l-main\">\n",
        "            <!--===== HOME =====-->\n",
        "            <section class=\"home bd-grid\" id=\"home\">\n",
        "                <div class=\"home__data\">\n",
        "                    <h1 class=\"home__title\">Hi,<br>upload an <span class=\"home__title-color\">IMAGE</span><br> and get its components</h1>\n",
        "\t\t\t\t\t<form action=\"/upload\" method=\"post\" enctype=\"multipart/form-data\"  onsubmit=\"showloading()\">\n",
        "\t\t\t\t\t\n",
        "\t\t\t\t\t\n",
        "\t\t\t\t\t<label  for=\"file\" class=\"custom-file-upload\">\n",
        "\t\t\t\t\t<input type=\"file\"  accept=\"image/*\" name=\"image\" id=\"file\" onchange=\"loadFile(event)\" >\n",
        "\t\t\t\t\tUpload\n",
        "\t\t\t\t\t</label>\n",
        "\n",
        "\t\t\t\t\t\n",
        "\t\t\t\t\t\n",
        "\t\t\t\t\t<label class=\"custom-file-upload\">\n",
        "\t\t\t\t\t<input type=\"submit\" >\n",
        "\t\t\t\t\tClassify\n",
        "\t\t\t\t\t</label>\n",
        "\t\t\t\t\t</form>\n",
        "                </div>\n",
        "\t\t\t\t<div></div>\n",
        "\n",
        "                <div class=\"home__img\" >    \n",
        "                    <img src=\"{{ url_for('static',filename='img.svg') }}\" id =\"img_id\" alt=\"\">\n",
        "                </div>\n",
        "            </section>\n",
        "\t\t\t\n",
        "\t\t\t\n",
        "            \n",
        "        </main>\n",
        "\n",
        "        <!--===== FOOTER =====-->\n",
        "        <footer class=\"footer\">\n",
        "            <p class=\"footer__title\">Finder</p>\n",
        "            \n",
        "            <p>&#169; 2020 copyright all right reserved</p>\n",
        "        </footer>\n",
        "\n",
        "\n",
        "        <!--===== SCROLL REVEAL =====-->\n",
        "        <script src=\"https://unpkg.com/scrollreveal\"></script>\n",
        "\n",
        "        <!--===== MAIN JS =====-->\n",
        "        <script src=\"{{ url_for('static',filename='main.js') }}\"></script>\n",
        "\t\t\n",
        "\t\t\n",
        "    </body>\n",
        "</html>"
      ],
      "execution_count": 9,
      "outputs": [
        {
          "output_type": "stream",
          "text": [
            "Overwriting templates/index.html\n"
          ],
          "name": "stdout"
        }
      ]
    },
    {
      "cell_type": "code",
      "metadata": {
        "id": "nFf3WFU7KPW0",
        "outputId": "79dfdeec-7e51-49b3-bb0f-c31b22388592",
        "colab": {
          "base_uri": "https://localhost:8080/",
          "height": 33
        }
      },
      "source": [
        "%%writefile templates/predict.html\n",
        "<!DOCTYPE html>\n",
        "<html lang=\"en\">\n",
        "    <head>\n",
        "        <meta charset=\"UTF-8\">\n",
        "        <meta name=\"viewport\" content=\"width=device-width, initial-scale=1.0\">\n",
        "\n",
        "        <link rel=\"stylesheet\" href=\"{{ url_for('static',filename='style.css') }}\">\n",
        "\n",
        "        <!-- =====BOX ICONS===== -->\n",
        "        <link href='https://cdn.jsdelivr.net/npm/boxicons@2.0.5/css/boxicons.min.css' rel='stylesheet'>\n",
        "\t\t<script src=\"https://ajax.googleapis.com/ajax/libs/jquery/3.3.1/jquery.min.js\"></script>\n",
        "\t\t<script src=\"https://maxcdn.bootstrapcdn.com/bootstrap/3.3.7/js/bootstrap.min.js\"></script>\n",
        "\t\t<script>\n",
        "\t\tfunction showloading() {\n",
        "        image = document.getElementById('home__img');\n",
        "        image.style.display = 'inline'\n",
        "    }\n",
        "</script>\n",
        "        <title>Finder</title>\n",
        "    </head>\n",
        "    <body>\n",
        "        <!--===== HEADER =====-->\n",
        "        <header class=\"l-header\">\n",
        "            <nav class=\"nav bd-grid\">\n",
        "                <div>\n",
        "                    <a href=\"/\" class=\"nav__logo\">Finder</a>\n",
        "                </div>\n",
        "\n",
        "                <div class=\"nav__menu\" id=\"nav-menu\">\n",
        "                    <ul class=\"nav__list\">\n",
        "                        <li class=\"nav__item\"><a href=\"/\" class=\"nav__link active\">Home</a></li>\n",
        "                        <li class=\"nav__item\"><a href=\"/about\" class=\"nav__link\">About</a></li>\n",
        "                    </ul>\n",
        "                </div>\n",
        "\n",
        "                <div class=\"nav__toggle\" id=\"nav-toggle\">\n",
        "                    <i class='bx bx-menu'></i>\n",
        "                </div>\n",
        "            </nav>\n",
        "        </header>\n",
        "\n",
        "        <main class=\"l-main\">\n",
        "            <!--===== HOME =====-->\n",
        "            <section class=\"home bd-grid\" id=\"home\">\n",
        "                <div class=\"home__data\">\n",
        "                    <h1 class=\"c__title\"><br>the components are <br> <span class=\"home__title-color\">{{ label }}</span><br></h1>\n",
        "\t\t\t\t\t<form action=\"/upload\" method=\"post\" enctype=\"multipart/form-data\"  onsubmit=\"showloading()\">\n",
        "\t\t\t\t\t\n",
        "\t\t\t\t\t\n",
        "\t\t\t\t\t<label  for=\"file\" class=\"custom-file-upload\">\n",
        "\t\t\t\t\t<input type=\"file\"  accept=\"image/*\" name=\"image\" id=\"file\" onchange=\"loadFile(event)\" >\n",
        "\t\t\t\t\tUpload\n",
        "\t\t\t\t\t</label>\n",
        "\n",
        "\t\t\t\t\t\n",
        "\t\t\t\t\t\n",
        "\t\t\t\t\t<label class=\"custom-file-upload\">\n",
        "\t\t\t\t\t<input type=\"submit\" >\n",
        "\t\t\t\t\tClassify\n",
        "\t\t\t\t\t</label>\n",
        "\t\t\t\t\t</form>\n",
        "                </div>\n",
        "\t\t\t\t<div></div>\n",
        "\n",
        "                <div class=\"home__img\" >    \n",
        "                    <img src=\"{{ url_for('send_file', filename=image_file_name)}}\" id =\"img_id\" alt=\"\">\n",
        "                </div>\n",
        "\t\t\t\t\n",
        "\n",
        "            </section>\n",
        "\t\t\t\n",
        "\t\t\t\n",
        "            \n",
        "        </main>\n",
        "\n",
        "        <!--===== FOOTER =====-->\n",
        "        <footer class=\"footer\">\n",
        "            <p class=\"footer__title\">Finder</p>\n",
        "            \n",
        "            <p>&#169; 2020 copyright all right reserved</p>\n",
        "        </footer>\n",
        "\n",
        "\n",
        "        <!--===== SCROLL REVEAL =====-->\n",
        "        <script src=\"https://unpkg.com/scrollreveal\"></script>\n",
        "\n",
        "        <!--===== MAIN JS =====-->\n",
        "        <script src=\"{{ url_for('static',filename='main.js') }}\"></script>\n",
        "\t\t\n",
        "\t\t\n",
        "    </body>\n",
        "</html>"
      ],
      "execution_count": 10,
      "outputs": [
        {
          "output_type": "stream",
          "text": [
            "Overwriting templates/predict.html\n"
          ],
          "name": "stdout"
        }
      ]
    },
    {
      "cell_type": "code",
      "metadata": {
        "id": "_0LbdFfoCesQ",
        "outputId": "83054ce8-96d6-498f-8fb9-edb624158fa6",
        "colab": {
          "base_uri": "https://localhost:8080/",
          "height": 33
        }
      },
      "source": [
        "%%writefile templates/about.html\n",
        "<!DOCTYPE html>\n",
        "<html lang=\"en\">\n",
        "    <head>\n",
        "        <meta charset=\"UTF-8\">\n",
        "        <meta name=\"viewport\" content=\"width=device-width, initial-scale=1.0\">\n",
        "\n",
        "        <link rel=\"stylesheet\" href=\"{{ url_for('static',filename='style.css') }}\">\n",
        "\n",
        "        <!-- =====BOX ICONS===== -->\n",
        "        <link href='https://cdn.jsdelivr.net/npm/boxicons@2.0.5/css/boxicons.min.css' rel='stylesheet'>\n",
        "\t\t<script src=\"https://ajax.googleapis.com/ajax/libs/jquery/3.3.1/jquery.min.js\"></script>\n",
        "\t\t<script src=\"https://maxcdn.bootstrapcdn.com/bootstrap/3.3.7/js/bootstrap.min.js\"></script>\n",
        "        <title>Finder</title>\n",
        "    </head>\n",
        "    <body>\n",
        "        <!--===== HEADER =====-->\n",
        "        <header class=\"l-header\">\n",
        "            <nav class=\"nav bd-grid\">\n",
        "                <div>\n",
        "                    <a href=\"/\" class=\"nav__logo\">Finder</a>\n",
        "                </div>\n",
        "\n",
        "                <div class=\"nav__menu\" id=\"nav-menu\">\n",
        "                    <ul class=\"nav__list\">\n",
        "                        <li class=\"nav__item\"><a href=\"/\" class=\"nav__link \">Home</a></li>\n",
        "                        <li class=\"nav__item\"><a href=\"/about\" class=\"nav__link active\">About</a></li>\n",
        "                    </ul>\n",
        "                </div>\n",
        "\n",
        "                <div class=\"nav__toggle\" id=\"nav-toggle\">\n",
        "                    <i class='bx bx-menu'></i>\n",
        "                </div>\n",
        "            </nav>\n",
        "        </header>\n",
        "\n",
        "        <main class=\"l-main\">\n",
        "        <section class=\"home bd-grid\" id=\"home\">\n",
        "                <div class=\"home__data\">\n",
        "                    <h4>\n",
        "\t\t\t\t\tThis web page helps detects components from images<br> based \n",
        "\t\t\t\t\ton the eighteen classes presented in<br> the UC Merced Land Use dataset.\n",
        "\t\t\t\t\t</h4>\n",
        "\t\t\t\t\t<h4>The used classes :  <span class=\"home__title-color\">['airplane', 'bare-soil','buildings',<br> 'cars',\n",
        "\t\t\t\t\t'chaparral', 'court', 'dock', 'field',<br> 'grass', 'mobile-home',\n",
        "\t\t\t\t\t'pavement', 'sand', 'sea',<br> 'ship', 'tanks', 'trees' and 'water'].</span>\n",
        "\t\t\t\t\t</h4>\n",
        "          </div>\n",
        "\t\t\t\t<div></div>\n",
        "\n",
        "                <div class=\"home__img\" >    \n",
        "                    <img src=\"{{ url_for('static',filename='img.svg') }}\" id =\"img_id\" alt=\"\">\n",
        "                </div>\n",
        "            </section>\n",
        "\t\t\t\n",
        "\t\t\t\n",
        "            \n",
        "        </main>\n",
        "\n",
        "        <!--===== FOOTER =====-->\n",
        "        <footer class=\"footer\">\n",
        "            <p class=\"footer__title\">Finder</p>\n",
        "            \n",
        "            <p>&#169; 2020 copyright all right reserved</p>\n",
        "        </footer>\n",
        "\n",
        "\n",
        "        <!--===== SCROLL REVEAL =====-->\n",
        "        <script src=\"https://unpkg.com/scrollreveal\"></script>\n",
        "\n",
        "        <!--===== MAIN JS =====-->\n",
        "        <script src=\"{{ url_for('static',filename='main.js') }}\"></script>\n",
        "\t\t\n",
        "\t\t\n",
        "    </body>\n",
        "</html>"
      ],
      "execution_count": 11,
      "outputs": [
        {
          "output_type": "stream",
          "text": [
            "Overwriting templates/about.html\n"
          ],
          "name": "stdout"
        }
      ]
    },
    {
      "cell_type": "code",
      "metadata": {
        "id": "Usp4zh_zx26v",
        "outputId": "2b4ec629-2d25-484c-fbdb-1defdb2dbab9",
        "colab": {
          "base_uri": "https://localhost:8080/",
          "height": 98
        }
      },
      "source": [
        "get_ipython().system_raw(\n",
        "    'pip3 install -r requirements.txt && python3 main.py > logs.txt 2>&1 &'\n",
        ")\n",
        "!tail logs.txt"
      ],
      "execution_count": 17,
      "outputs": [
        {
          "output_type": "stream",
          "text": [
            "[2020-10-03 20:02:09,044] CRITICAL in main: secret: b839bc9182f3e61e4615b73d28f54330ad561896a74571c9\n",
            " * Restarting with stat\n",
            "[2020-10-03 20:02:11,313] CRITICAL in main: secret: ac5e5a1c7cf5f875c3fdae5563518f4e5a0b00827f7e02cf\n",
            " * Debugger is active!\n",
            " * Debugger PIN: 141-687-291\n"
          ],
          "name": "stdout"
        }
      ]
    },
    {
      "cell_type": "code",
      "metadata": {
        "id": "_CbapdO01hHh",
        "outputId": "521ef7da-53f5-41bd-fc2c-8f5275989b35",
        "colab": {
          "base_uri": "https://localhost:8080/",
          "height": 82
        }
      },
      "source": [
        "# Make sure it's running on local port\n",
        "PORT = 5000\n",
        "\n",
        "!curl http://localhost:{PORT}/hello"
      ],
      "execution_count": 20,
      "outputs": [
        {
          "output_type": "stream",
          "text": [
            "<!DOCTYPE HTML PUBLIC \"-//W3C//DTD HTML 3.2 Final//EN\">\n",
            "<title>404 Not Found</title>\n",
            "<h1>Not Found</h1>\n",
            "<p>The requested URL was not found on the server. If you entered the URL manually please check your spelling and try again.</p>\n"
          ],
          "name": "stdout"
        }
      ]
    },
    {
      "cell_type": "code",
      "metadata": {
        "id": "wxg4dYLH1lT8",
        "outputId": "a7c26485-7141-4502-f3b3-b308ead87961",
        "colab": {
          "base_uri": "https://localhost:8080/",
          "height": 66
        }
      },
      "source": [
        "!wget --quiet https://bin.equinox.io/c/4VmDzA7iaHb/ngrok-stable-linux-amd64.zip\n",
        "!unzip ngrok-stable-linux-amd64.zip"
      ],
      "execution_count": 21,
      "outputs": [
        {
          "output_type": "stream",
          "text": [
            "Archive:  ngrok-stable-linux-amd64.zip\n",
            "replace ngrok? [y]es, [n]o, [A]ll, [N]one, [r]ename: A\n",
            "  inflating: ngrok                   \n"
          ],
          "name": "stdout"
        }
      ]
    },
    {
      "cell_type": "code",
      "metadata": {
        "id": "8XX9xL701y6b"
      },
      "source": [
        "get_ipython().system_raw(\n",
        "    './ngrok http {} &'\n",
        "    .format(PORT)\n",
        ")"
      ],
      "execution_count": 22,
      "outputs": []
    },
    {
      "cell_type": "code",
      "metadata": {
        "id": "Fz-dRTbt11xI",
        "outputId": "d57acf3d-b47d-436f-82df-70807d6b0533",
        "colab": {
          "base_uri": "https://localhost:8080/",
          "height": 33
        }
      },
      "source": [
        "public_url = !curl -s http://localhost:4040/api/tunnels | python3 -c \\\n",
        "    \"import sys, json; print(json.load(sys.stdin)['tunnels'][0]['public_url'])\"\n",
        "\n",
        "print(public_url[0])"
      ],
      "execution_count": 23,
      "outputs": [
        {
          "output_type": "stream",
          "text": [
            "http://427ff3957777.ngrok.io\n"
          ],
          "name": "stdout"
        }
      ]
    }
  ]
}